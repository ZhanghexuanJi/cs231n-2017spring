{
 "cells": [
  {
   "cell_type": "markdown",
   "metadata": {},
   "source": [
    "# Softmax exercise\n",
    "\n",
    "*Complete and hand in this completed worksheet (including its outputs and any supporting code outside of the worksheet) with your assignment submission. For more details see the [assignments page](http://vision.stanford.edu/teaching/cs231n/assignments.html) on the course website.*\n",
    "\n",
    "This exercise is analogous to the SVM exercise. You will:\n",
    "\n",
    "- implement a fully-vectorized **loss function** for the Softmax classifier\n",
    "- implement the fully-vectorized expression for its **analytic gradient**\n",
    "- **check your implementation** with numerical gradient\n",
    "- use a validation set to **tune the learning rate and regularization** strength\n",
    "- **optimize** the loss function with **SGD**\n",
    "- **visualize** the final learned weights\n"
   ]
  },
  {
   "cell_type": "code",
   "execution_count": 1,
   "metadata": {
    "collapsed": false
   },
   "outputs": [],
   "source": [
    "import random\n",
    "import numpy as np\n",
    "from cs231n.data_utils import load_CIFAR10\n",
    "import matplotlib.pyplot as plt\n",
    "\n",
    "from __future__ import print_function\n",
    "\n",
    "%matplotlib inline\n",
    "plt.rcParams['figure.figsize'] = (10.0, 8.0) # set default size of plots\n",
    "plt.rcParams['image.interpolation'] = 'nearest'\n",
    "plt.rcParams['image.cmap'] = 'gray'\n",
    "\n",
    "# for auto-reloading extenrnal modules\n",
    "# see http://stackoverflow.com/questions/1907993/autoreload-of-modules-in-ipython\n",
    "%load_ext autoreload\n",
    "%autoreload 2"
   ]
  },
  {
   "cell_type": "code",
   "execution_count": 2,
   "metadata": {
    "collapsed": false
   },
   "outputs": [
    {
     "name": "stdout",
     "output_type": "stream",
     "text": [
      "Train data shape:  (49000, 3073)\n",
      "Train labels shape:  (49000,)\n",
      "Validation data shape:  (1000, 3073)\n",
      "Validation labels shape:  (1000,)\n",
      "Test data shape:  (1000, 3073)\n",
      "Test labels shape:  (1000,)\n",
      "dev data shape:  (500, 3073)\n",
      "dev labels shape:  (500,)\n"
     ]
    }
   ],
   "source": [
    "def get_CIFAR10_data(num_training=49000, num_validation=1000, num_test=1000, num_dev=500):\n",
    "    \"\"\"\n",
    "    Load the CIFAR-10 dataset from disk and perform preprocessing to prepare\n",
    "    it for the linear classifier. These are the same steps as we used for the\n",
    "    SVM, but condensed to a single function.  \n",
    "    \"\"\"\n",
    "    # Load the raw CIFAR-10 data\n",
    "    cifar10_dir = 'cs231n/datasets/cifar-10-batches-py'\n",
    "    X_train, y_train, X_test, y_test = load_CIFAR10(cifar10_dir)\n",
    "    \n",
    "    # subsample the data\n",
    "    mask = list(range(num_training, num_training + num_validation))\n",
    "    X_val = X_train[mask]\n",
    "    y_val = y_train[mask]\n",
    "    mask = list(range(num_training))\n",
    "    X_train = X_train[mask]\n",
    "    y_train = y_train[mask]\n",
    "    mask = list(range(num_test))\n",
    "    X_test = X_test[mask]\n",
    "    y_test = y_test[mask]\n",
    "    mask = np.random.choice(num_training, num_dev, replace=False)\n",
    "    X_dev = X_train[mask]\n",
    "    y_dev = y_train[mask]\n",
    "    \n",
    "    # Preprocessing: reshape the image data into rows\n",
    "    X_train = np.reshape(X_train, (X_train.shape[0], -1))\n",
    "    X_val = np.reshape(X_val, (X_val.shape[0], -1))\n",
    "    X_test = np.reshape(X_test, (X_test.shape[0], -1))\n",
    "    X_dev = np.reshape(X_dev, (X_dev.shape[0], -1))\n",
    "    \n",
    "    # Normalize the data: subtract the mean image\n",
    "    mean_image = np.mean(X_train, axis = 0)\n",
    "    X_train -= mean_image\n",
    "    X_val -= mean_image\n",
    "    X_test -= mean_image\n",
    "    X_dev -= mean_image\n",
    "    \n",
    "    # add bias dimension and transform into columns\n",
    "    X_train = np.hstack([X_train, np.ones((X_train.shape[0], 1))])\n",
    "    X_val = np.hstack([X_val, np.ones((X_val.shape[0], 1))])\n",
    "    X_test = np.hstack([X_test, np.ones((X_test.shape[0], 1))])\n",
    "    X_dev = np.hstack([X_dev, np.ones((X_dev.shape[0], 1))])\n",
    "    \n",
    "    return X_train, y_train, X_val, y_val, X_test, y_test, X_dev, y_dev\n",
    "\n",
    "\n",
    "# Invoke the above function to get our data.\n",
    "X_train, y_train, X_val, y_val, X_test, y_test, X_dev, y_dev = get_CIFAR10_data()\n",
    "print('Train data shape: ', X_train.shape)\n",
    "print('Train labels shape: ', y_train.shape)\n",
    "print('Validation data shape: ', X_val.shape)\n",
    "print('Validation labels shape: ', y_val.shape)\n",
    "print('Test data shape: ', X_test.shape)\n",
    "print('Test labels shape: ', y_test.shape)\n",
    "print('dev data shape: ', X_dev.shape)\n",
    "print('dev labels shape: ', y_dev.shape)"
   ]
  },
  {
   "cell_type": "markdown",
   "metadata": {},
   "source": [
    "## Softmax Classifier\n",
    "\n",
    "Your code for this section will all be written inside **cs231n/classifiers/softmax.py**. \n"
   ]
  },
  {
   "cell_type": "code",
   "execution_count": 3,
   "metadata": {
    "collapsed": false
   },
   "outputs": [
    {
     "name": "stdout",
     "output_type": "stream",
     "text": [
      "loss: 2.314038\n",
      "sanity check: 2.302585\n"
     ]
    }
   ],
   "source": [
    "# First implement the naive softmax loss function with nested loops.\n",
    "# Open the file cs231n/classifiers/softmax.py and implement the\n",
    "# softmax_loss_naive function.\n",
    "\n",
    "from cs231n.classifiers.softmax import softmax_loss_naive\n",
    "import time\n",
    "\n",
    "# Generate a random softmax weight matrix and use it to compute the loss.\n",
    "W = np.random.randn(3073, 10) * 0.0001\n",
    "loss, grad = softmax_loss_naive(W, X_dev, y_dev, 0.0)\n",
    "\n",
    "# As a rough sanity check, our loss should be something close to -log(0.1).\n",
    "print('loss: %f' % loss)\n",
    "print('sanity check: %f' % (-np.log(0.1)))"
   ]
  },
  {
   "cell_type": "markdown",
   "metadata": {},
   "source": [
    "## Inline Question 1:\n",
    "Why do we expect our loss to be close to -log(0.1)? Explain briefly.**\n",
    "\n",
    "**Your answer:** \n"
   ]
  },
  {
   "cell_type": "code",
   "execution_count": 4,
   "metadata": {
    "collapsed": false
   },
   "outputs": [
    {
     "name": "stdout",
     "output_type": "stream",
     "text": [
      "numerical: 0.851028 analytic: 0.851028, relative error: 6.752225e-08\n",
      "numerical: -0.933814 analytic: -0.933814, relative error: 3.525032e-08\n",
      "numerical: 0.947635 analytic: 0.947635, relative error: 2.332010e-08\n",
      "numerical: 1.494397 analytic: 1.494397, relative error: 2.905224e-08\n",
      "numerical: 0.276741 analytic: 0.276741, relative error: 1.472743e-07\n",
      "numerical: -2.464853 analytic: -2.464854, relative error: 2.859840e-09\n",
      "numerical: -0.710348 analytic: -0.710348, relative error: 1.372354e-08\n",
      "numerical: 2.625445 analytic: 2.625445, relative error: 3.383372e-08\n",
      "numerical: -5.942673 analytic: -5.942673, relative error: 3.500198e-09\n",
      "numerical: 0.625658 analytic: 0.625658, relative error: 5.979492e-08\n",
      "numerical: 0.234921 analytic: 0.234921, relative error: 3.152839e-08\n",
      "numerical: -6.026110 analytic: -6.026110, relative error: 1.149306e-08\n",
      "numerical: 1.726018 analytic: 1.726018, relative error: 2.243555e-08\n",
      "numerical: 1.181507 analytic: 1.181507, relative error: 1.216428e-08\n",
      "numerical: 0.888892 analytic: 0.888892, relative error: 1.453367e-08\n",
      "numerical: -1.915456 analytic: -1.915456, relative error: 1.467186e-08\n",
      "numerical: 0.239655 analytic: 0.239655, relative error: 1.630782e-07\n",
      "numerical: -4.348631 analytic: -4.348631, relative error: 7.485809e-09\n",
      "numerical: 1.324515 analytic: 1.324515, relative error: 6.995388e-09\n",
      "numerical: 0.419943 analytic: 0.419943, relative error: 1.631962e-09\n"
     ]
    }
   ],
   "source": [
    "# Complete the implementation of softmax_loss_naive and implement a (naive)\n",
    "# version of the gradient that uses nested loops.\n",
    "loss, grad = softmax_loss_naive(W, X_dev, y_dev, 0.0)\n",
    "\n",
    "# As we did for the SVM, use numeric gradient checking as a debugging tool.\n",
    "# The numeric gradient should be close to the analytic gradient.\n",
    "from cs231n.gradient_check import grad_check_sparse\n",
    "f = lambda w: softmax_loss_naive(w, X_dev, y_dev, 0.0)[0]\n",
    "grad_numerical = grad_check_sparse(f, W, grad, 10)\n",
    "\n",
    "# similar to SVM case, do another gradient check with regularization\n",
    "loss, grad = softmax_loss_naive(W, X_dev, y_dev, 5e1)\n",
    "f = lambda w: softmax_loss_naive(w, X_dev, y_dev, 5e1)[0]\n",
    "grad_numerical = grad_check_sparse(f, W, grad, 10)"
   ]
  },
  {
   "cell_type": "code",
   "execution_count": 5,
   "metadata": {
    "collapsed": false
   },
   "outputs": [
    {
     "name": "stdout",
     "output_type": "stream",
     "text": [
      "naive loss: 2.314038e+00 computed in 0.121573s\n",
      "vectorized loss: 2.314038e+00 computed in 0.013470s\n",
      "Loss difference: 0.000000\n",
      "Gradient difference: 0.000000\n"
     ]
    }
   ],
   "source": [
    "# Now that we have a naive implementation of the softmax loss function and its gradient,\n",
    "# implement a vectorized version in softmax_loss_vectorized.\n",
    "# The two versions should compute the same results, but the vectorized version should be\n",
    "# much faster.\n",
    "tic = time.time()\n",
    "loss_naive, grad_naive = softmax_loss_naive(W, X_dev, y_dev, 0.000005)\n",
    "toc = time.time()\n",
    "print('naive loss: %e computed in %fs' % (loss_naive, toc - tic))\n",
    "\n",
    "from cs231n.classifiers.softmax import softmax_loss_vectorized\n",
    "tic = time.time()\n",
    "loss_vectorized, grad_vectorized = softmax_loss_vectorized(W, X_dev, y_dev, 0.000005)\n",
    "toc = time.time()\n",
    "print('vectorized loss: %e computed in %fs' % (loss_vectorized, toc - tic))\n",
    "\n",
    "# As we did for the SVM, we use the Frobenius norm to compare the two versions\n",
    "# of the gradient.\n",
    "grad_difference = np.linalg.norm(grad_naive - grad_vectorized, ord='fro')\n",
    "print('Loss difference: %f' % np.abs(loss_naive - loss_vectorized))\n",
    "print('Gradient difference: %f' % grad_difference)"
   ]
  },
  {
   "cell_type": "code",
   "execution_count": 6,
   "metadata": {
    "collapsed": false
   },
   "outputs": [
    {
     "name": "stdout",
     "output_type": "stream",
     "text": [
      "Best validation accuracy: 0.343000\n",
      "Best validation accuracy: 0.350000\n",
      "Best validation accuracy: 0.352000\n",
      "lr 1.000000e-07 reg 2.500000e+04 train accuracy: 0.328980 val accuracy: 0.343000\n",
      "lr 1.000000e-07 reg 2.777778e+04 train accuracy: 0.331531 val accuracy: 0.335000\n",
      "lr 1.000000e-07 reg 3.055556e+04 train accuracy: 0.324061 val accuracy: 0.343000\n",
      "lr 1.000000e-07 reg 3.333333e+04 train accuracy: 0.318449 val accuracy: 0.331000\n",
      "lr 1.000000e-07 reg 3.611111e+04 train accuracy: 0.317469 val accuracy: 0.335000\n",
      "lr 1.000000e-07 reg 3.888889e+04 train accuracy: 0.318755 val accuracy: 0.332000\n",
      "lr 1.000000e-07 reg 4.166667e+04 train accuracy: 0.310633 val accuracy: 0.323000\n",
      "lr 1.000000e-07 reg 4.444444e+04 train accuracy: 0.315816 val accuracy: 0.330000\n",
      "lr 1.000000e-07 reg 4.722222e+04 train accuracy: 0.303612 val accuracy: 0.322000\n",
      "lr 1.000000e-07 reg 5.000000e+04 train accuracy: 0.302694 val accuracy: 0.322000\n",
      "lr 1.444444e-07 reg 2.500000e+04 train accuracy: 0.330041 val accuracy: 0.350000\n",
      "lr 1.444444e-07 reg 2.777778e+04 train accuracy: 0.322980 val accuracy: 0.340000\n",
      "lr 1.444444e-07 reg 3.055556e+04 train accuracy: 0.319163 val accuracy: 0.338000\n",
      "lr 1.444444e-07 reg 3.333333e+04 train accuracy: 0.320918 val accuracy: 0.331000\n",
      "lr 1.444444e-07 reg 3.611111e+04 train accuracy: 0.311673 val accuracy: 0.326000\n",
      "lr 1.444444e-07 reg 3.888889e+04 train accuracy: 0.310265 val accuracy: 0.318000\n",
      "lr 1.444444e-07 reg 4.166667e+04 train accuracy: 0.304224 val accuracy: 0.322000\n",
      "lr 1.444444e-07 reg 4.444444e+04 train accuracy: 0.305224 val accuracy: 0.320000\n",
      "lr 1.444444e-07 reg 4.722222e+04 train accuracy: 0.310633 val accuracy: 0.330000\n",
      "lr 1.444444e-07 reg 5.000000e+04 train accuracy: 0.307796 val accuracy: 0.325000\n",
      "lr 1.888889e-07 reg 2.500000e+04 train accuracy: 0.324796 val accuracy: 0.343000\n",
      "lr 1.888889e-07 reg 2.777778e+04 train accuracy: 0.326102 val accuracy: 0.346000\n",
      "lr 1.888889e-07 reg 3.055556e+04 train accuracy: 0.318653 val accuracy: 0.338000\n",
      "lr 1.888889e-07 reg 3.333333e+04 train accuracy: 0.324694 val accuracy: 0.341000\n",
      "lr 1.888889e-07 reg 3.611111e+04 train accuracy: 0.321571 val accuracy: 0.339000\n",
      "lr 1.888889e-07 reg 3.888889e+04 train accuracy: 0.310327 val accuracy: 0.329000\n",
      "lr 1.888889e-07 reg 4.166667e+04 train accuracy: 0.305429 val accuracy: 0.315000\n",
      "lr 1.888889e-07 reg 4.444444e+04 train accuracy: 0.313306 val accuracy: 0.335000\n",
      "lr 1.888889e-07 reg 4.722222e+04 train accuracy: 0.310980 val accuracy: 0.335000\n",
      "lr 1.888889e-07 reg 5.000000e+04 train accuracy: 0.309449 val accuracy: 0.332000\n",
      "lr 2.333333e-07 reg 2.500000e+04 train accuracy: 0.319796 val accuracy: 0.339000\n",
      "lr 2.333333e-07 reg 2.777778e+04 train accuracy: 0.331449 val accuracy: 0.349000\n",
      "lr 2.333333e-07 reg 3.055556e+04 train accuracy: 0.329551 val accuracy: 0.352000\n",
      "lr 2.333333e-07 reg 3.333333e+04 train accuracy: 0.316816 val accuracy: 0.326000\n",
      "lr 2.333333e-07 reg 3.611111e+04 train accuracy: 0.310245 val accuracy: 0.326000\n",
      "lr 2.333333e-07 reg 3.888889e+04 train accuracy: 0.317469 val accuracy: 0.337000\n",
      "lr 2.333333e-07 reg 4.166667e+04 train accuracy: 0.317367 val accuracy: 0.328000\n",
      "lr 2.333333e-07 reg 4.444444e+04 train accuracy: 0.314551 val accuracy: 0.320000\n",
      "lr 2.333333e-07 reg 4.722222e+04 train accuracy: 0.309020 val accuracy: 0.329000\n",
      "lr 2.333333e-07 reg 5.000000e+04 train accuracy: 0.304551 val accuracy: 0.320000\n",
      "lr 2.777778e-07 reg 2.500000e+04 train accuracy: 0.336469 val accuracy: 0.349000\n",
      "lr 2.777778e-07 reg 2.777778e+04 train accuracy: 0.309898 val accuracy: 0.327000\n",
      "lr 2.777778e-07 reg 3.055556e+04 train accuracy: 0.322224 val accuracy: 0.345000\n",
      "lr 2.777778e-07 reg 3.333333e+04 train accuracy: 0.312224 val accuracy: 0.323000\n",
      "lr 2.777778e-07 reg 3.611111e+04 train accuracy: 0.326122 val accuracy: 0.343000\n",
      "lr 2.777778e-07 reg 3.888889e+04 train accuracy: 0.315184 val accuracy: 0.337000\n",
      "lr 2.777778e-07 reg 4.166667e+04 train accuracy: 0.310918 val accuracy: 0.326000\n",
      "lr 2.777778e-07 reg 4.444444e+04 train accuracy: 0.303000 val accuracy: 0.323000\n",
      "lr 2.777778e-07 reg 4.722222e+04 train accuracy: 0.307102 val accuracy: 0.323000\n",
      "lr 2.777778e-07 reg 5.000000e+04 train accuracy: 0.308041 val accuracy: 0.333000\n",
      "lr 3.222222e-07 reg 2.500000e+04 train accuracy: 0.319694 val accuracy: 0.333000\n",
      "lr 3.222222e-07 reg 2.777778e+04 train accuracy: 0.312490 val accuracy: 0.331000\n",
      "lr 3.222222e-07 reg 3.055556e+04 train accuracy: 0.324327 val accuracy: 0.336000\n",
      "lr 3.222222e-07 reg 3.333333e+04 train accuracy: 0.325776 val accuracy: 0.336000\n",
      "lr 3.222222e-07 reg 3.611111e+04 train accuracy: 0.313306 val accuracy: 0.330000\n",
      "lr 3.222222e-07 reg 3.888889e+04 train accuracy: 0.316367 val accuracy: 0.322000\n",
      "lr 3.222222e-07 reg 4.166667e+04 train accuracy: 0.315082 val accuracy: 0.329000\n",
      "lr 3.222222e-07 reg 4.444444e+04 train accuracy: 0.315245 val accuracy: 0.324000\n",
      "lr 3.222222e-07 reg 4.722222e+04 train accuracy: 0.311653 val accuracy: 0.330000\n",
      "lr 3.222222e-07 reg 5.000000e+04 train accuracy: 0.297735 val accuracy: 0.318000\n",
      "lr 3.666667e-07 reg 2.500000e+04 train accuracy: 0.325184 val accuracy: 0.337000\n",
      "lr 3.666667e-07 reg 2.777778e+04 train accuracy: 0.322776 val accuracy: 0.340000\n",
      "lr 3.666667e-07 reg 3.055556e+04 train accuracy: 0.324633 val accuracy: 0.339000\n",
      "lr 3.666667e-07 reg 3.333333e+04 train accuracy: 0.314143 val accuracy: 0.321000\n",
      "lr 3.666667e-07 reg 3.611111e+04 train accuracy: 0.316551 val accuracy: 0.331000\n",
      "lr 3.666667e-07 reg 3.888889e+04 train accuracy: 0.313102 val accuracy: 0.330000\n",
      "lr 3.666667e-07 reg 4.166667e+04 train accuracy: 0.308347 val accuracy: 0.322000\n",
      "lr 3.666667e-07 reg 4.444444e+04 train accuracy: 0.302592 val accuracy: 0.309000\n",
      "lr 3.666667e-07 reg 4.722222e+04 train accuracy: 0.311122 val accuracy: 0.316000\n",
      "lr 3.666667e-07 reg 5.000000e+04 train accuracy: 0.312816 val accuracy: 0.339000\n",
      "lr 4.111111e-07 reg 2.500000e+04 train accuracy: 0.324714 val accuracy: 0.345000\n",
      "lr 4.111111e-07 reg 2.777778e+04 train accuracy: 0.327184 val accuracy: 0.349000\n",
      "lr 4.111111e-07 reg 3.055556e+04 train accuracy: 0.327959 val accuracy: 0.330000\n",
      "lr 4.111111e-07 reg 3.333333e+04 train accuracy: 0.317735 val accuracy: 0.347000\n",
      "lr 4.111111e-07 reg 3.611111e+04 train accuracy: 0.309510 val accuracy: 0.322000\n",
      "lr 4.111111e-07 reg 3.888889e+04 train accuracy: 0.314592 val accuracy: 0.322000\n",
      "lr 4.111111e-07 reg 4.166667e+04 train accuracy: 0.309980 val accuracy: 0.329000\n",
      "lr 4.111111e-07 reg 4.444444e+04 train accuracy: 0.296816 val accuracy: 0.316000\n",
      "lr 4.111111e-07 reg 4.722222e+04 train accuracy: 0.316918 val accuracy: 0.330000\n",
      "lr 4.111111e-07 reg 5.000000e+04 train accuracy: 0.298041 val accuracy: 0.309000\n",
      "lr 4.555556e-07 reg 2.500000e+04 train accuracy: 0.325388 val accuracy: 0.332000\n",
      "lr 4.555556e-07 reg 2.777778e+04 train accuracy: 0.316796 val accuracy: 0.328000\n",
      "lr 4.555556e-07 reg 3.055556e+04 train accuracy: 0.323939 val accuracy: 0.337000\n",
      "lr 4.555556e-07 reg 3.333333e+04 train accuracy: 0.322694 val accuracy: 0.333000\n",
      "lr 4.555556e-07 reg 3.611111e+04 train accuracy: 0.308592 val accuracy: 0.313000\n",
      "lr 4.555556e-07 reg 3.888889e+04 train accuracy: 0.320469 val accuracy: 0.332000\n",
      "lr 4.555556e-07 reg 4.166667e+04 train accuracy: 0.294939 val accuracy: 0.306000\n",
      "lr 4.555556e-07 reg 4.444444e+04 train accuracy: 0.319388 val accuracy: 0.332000\n",
      "lr 4.555556e-07 reg 4.722222e+04 train accuracy: 0.317776 val accuracy: 0.343000\n",
      "lr 4.555556e-07 reg 5.000000e+04 train accuracy: 0.303837 val accuracy: 0.312000\n",
      "lr 5.000000e-07 reg 2.500000e+04 train accuracy: 0.329673 val accuracy: 0.338000\n",
      "lr 5.000000e-07 reg 2.777778e+04 train accuracy: 0.322531 val accuracy: 0.340000\n",
      "lr 5.000000e-07 reg 3.055556e+04 train accuracy: 0.324367 val accuracy: 0.337000\n",
      "lr 5.000000e-07 reg 3.333333e+04 train accuracy: 0.320878 val accuracy: 0.334000\n",
      "lr 5.000000e-07 reg 3.611111e+04 train accuracy: 0.323020 val accuracy: 0.337000\n",
      "lr 5.000000e-07 reg 3.888889e+04 train accuracy: 0.313388 val accuracy: 0.337000\n",
      "lr 5.000000e-07 reg 4.166667e+04 train accuracy: 0.299673 val accuracy: 0.312000\n",
      "lr 5.000000e-07 reg 4.444444e+04 train accuracy: 0.314551 val accuracy: 0.327000\n",
      "lr 5.000000e-07 reg 4.722222e+04 train accuracy: 0.277388 val accuracy: 0.282000\n",
      "lr 5.000000e-07 reg 5.000000e+04 train accuracy: 0.306939 val accuracy: 0.323000\n",
      "best validation accuracy achieved during cross-validation: 0.352000\n"
     ]
    }
   ],
   "source": [
    "# Use the validation set to tune hyperparameters (regularization strength and\n",
    "# learning rate). You should experiment with different ranges for the learning\n",
    "# rates and regularization strengths; if you are careful you should be able to\n",
    "# get a classification accuracy of over 0.35 on the validation set.\n",
    "from cs231n.classifiers import Softmax\n",
    "results = {}\n",
    "best_val = -1\n",
    "best_softmax = None\n",
    "learning_rates = [1e-7, 5e-7]\n",
    "regularization_strengths = [2.5e4, 5e4]\n",
    "\n",
    "################################################################################\n",
    "# TODO:                                                                        #\n",
    "# Use the validation set to set the learning rate and regularization strength. #\n",
    "# This should be identical to the validation that you did for the SVM; save    #\n",
    "# the best trained softmax classifer in best_softmax.                          #\n",
    "################################################################################\n",
    "for lr_rate in np.linspace(learning_rates[0],learning_rates[1],10):\n",
    "    for reg in np.linspace(regularization_strengths[0],regularization_strengths[1],10):\n",
    "        softmax = Softmax()\n",
    "        _ = softmax.train(X_train, y_train, learning_rate=lr_rate, reg=reg,\n",
    "                      num_iters=1000, verbose=False)\n",
    "        y_train_pred = np.mean(y_train == softmax.predict(X_train))\n",
    "        y_val_pred = np.mean(y_val == softmax.predict(X_val))\n",
    "        results[(lr_rate,reg)] = (y_train_pred,y_val_pred)\n",
    "        if y_val_pred > best_val:\n",
    "            best_val = y_val_pred\n",
    "            best_softmax = softmax\n",
    "            print('Best validation accuracy: %f' % best_val)\n",
    "################################################################################\n",
    "#                              END OF YOUR CODE                                #\n",
    "################################################################################\n",
    "    \n",
    "# Print out results.\n",
    "for lr, reg in sorted(results):\n",
    "    train_accuracy, val_accuracy = results[(lr, reg)]\n",
    "    print('lr %e reg %e train accuracy: %f val accuracy: %f' % (\n",
    "                lr, reg, train_accuracy, val_accuracy))\n",
    "    \n",
    "print('best validation accuracy achieved during cross-validation: %f' % best_val)"
   ]
  },
  {
   "cell_type": "code",
   "execution_count": 7,
   "metadata": {
    "collapsed": false
   },
   "outputs": [
    {
     "name": "stdout",
     "output_type": "stream",
     "text": [
      "softmax on raw pixels final test set accuracy: 0.336000\n"
     ]
    }
   ],
   "source": [
    "# evaluate on test set\n",
    "# Evaluate the best softmax on test set\n",
    "y_test_pred = best_softmax.predict(X_test)\n",
    "test_accuracy = np.mean(y_test == y_test_pred)\n",
    "print('softmax on raw pixels final test set accuracy: %f' % (test_accuracy, ))"
   ]
  },
  {
   "cell_type": "code",
   "execution_count": 8,
   "metadata": {
    "collapsed": false
   },
   "outputs": [
    {
     "data": {
      "image/png": "[encoded data removed]",
      "text/plain": [
       "<matplotlib.figure.Figure at 0x7f5317a8fc90>"
      ]
     },
     "metadata": {},
     "output_type": "display_data"
    }
   ],
   "source": [
    "# Visualize the learned weights for each class\n",
    "w = best_softmax.W[:-1,:] # strip out the bias\n",
    "w = w.reshape(32, 32, 3, 10)\n",
    "\n",
    "w_min, w_max = np.min(w), np.max(w)\n",
    "\n",
    "classes = ['plane', 'car', 'bird', 'cat', 'deer', 'dog', 'frog', 'horse', 'ship', 'truck']\n",
    "for i in range(10):\n",
    "    plt.subplot(2, 5, i + 1)\n",
    "    \n",
    "    # Rescale the weights to be between 0 and 255\n",
    "    wimg = 255.0 * (w[:, :, :, i].squeeze() - w_min) / (w_max - w_min)\n",
    "    plt.imshow(wimg.astype('uint8'))\n",
    "    plt.axis('off')\n",
    "    plt.title(classes[i])"
   ]
  },
  {
   "cell_type": "code",
   "execution_count": null,
   "metadata": {
    "collapsed": true
   },
   "outputs": [],
   "source": []
  }
 ],
 "metadata": {
  "kernelspec": {
   "display_name": "Python 2",
   "language": "python",
   "name": "python2"
  },
  "language_info": {
   "codemirror_mode": {
    "name": "ipython",
    "version": 2
   },
   "file_extension": ".py",
   "mimetype": "text/x-python",
   "name": "python",
   "nbconvert_exporter": "python",
   "pygments_lexer": "ipython2",
   "version": "2.7.12"
  }
 },
 "nbformat": 4,
 "nbformat_minor": 0
}
